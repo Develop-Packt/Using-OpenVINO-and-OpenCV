{
 "cells": [
  {
   "cell_type": "code",
   "execution_count": 1,
   "metadata": {},
   "outputs": [],
   "source": [
    "# Load the required modules\n",
    "import cv2\n",
    "import numpy as np"
   ]
  },
  {
   "cell_type": "code",
   "execution_count": 2,
   "metadata": {},
   "outputs": [],
   "source": [
    "# Specify the path to IR\n",
    "xmlFile = \"../data/intel/pedestrian-and-vehicle-detector-adas-0001/FP16/pedestrian-and-vehicle-detector-adas-0001.xml\"\n",
    "binFile = \"../data/intel/pedestrian-and-vehicle-detector-adas-0001/FP16/pedestrian-and-vehicle-detector-adas-0001.bin\""
   ]
  },
  {
   "cell_type": "code",
   "execution_count": 3,
   "metadata": {},
   "outputs": [],
   "source": [
    "# Image path\n",
    "imgPath = \"../data/pedestrians.jpg\"\n",
    "# Read image\n",
    "img = cv2.imread(imgPath)"
   ]
  },
  {
   "cell_type": "code",
   "execution_count": 4,
   "metadata": {},
   "outputs": [],
   "source": [
    "# Load the network\n",
    "net = cv2.dnn.readNet(xmlFile,binFile)"
   ]
  },
  {
   "cell_type": "code",
   "execution_count": 5,
   "metadata": {},
   "outputs": [],
   "source": [
    "# Pre-process the image\n",
    "# We want to resize the image to 384x672\n",
    "blob = cv2.dnn.blobFromImage(img, size=(672,384))"
   ]
  },
  {
   "cell_type": "code",
   "execution_count": 6,
   "metadata": {},
   "outputs": [
    {
     "data": {
      "text/plain": [
       "(1, 3, 384, 672)"
      ]
     },
     "execution_count": 6,
     "metadata": {},
     "output_type": "execute_result"
    }
   ],
   "source": [
    "# Check the blob shape\n",
    "blob.shape"
   ]
  },
  {
   "cell_type": "code",
   "execution_count": 7,
   "metadata": {},
   "outputs": [],
   "source": [
    "# Set the image as network input\n",
    "net.setInput(blob)"
   ]
  },
  {
   "cell_type": "code",
   "execution_count": 8,
   "metadata": {},
   "outputs": [],
   "source": [
    "# Carry a forward propagation\n",
    "out = net.forward()"
   ]
  },
  {
   "cell_type": "code",
   "execution_count": 9,
   "metadata": {},
   "outputs": [
    {
     "data": {
      "text/plain": [
       "(1, 1, 200, 7)"
      ]
     },
     "execution_count": 9,
     "metadata": {},
     "output_type": "execute_result"
    }
   ],
   "source": [
    "# Check output shape\n",
    "out.shape"
   ]
  },
  {
   "cell_type": "code",
   "execution_count": 10,
   "metadata": {},
   "outputs": [
    {
     "name": "stdout",
     "output_type": "stream",
     "text": [
      "Number of objects found = 200\n"
     ]
    }
   ],
   "source": [
    "# Compare this with [1,1,N,7]\n",
    "print(\"Number of objects found = {}\".format(out.shape[2]))"
   ]
  },
  {
   "cell_type": "code",
   "execution_count": 11,
   "metadata": {},
   "outputs": [],
   "source": [
    "# Reshape the output\n",
    "detection = out.reshape(-1,7)"
   ]
  },
  {
   "cell_type": "code",
   "execution_count": 12,
   "metadata": {},
   "outputs": [
    {
     "data": {
      "text/plain": [
       "(200, 7)"
      ]
     },
     "execution_count": 12,
     "metadata": {},
     "output_type": "execute_result"
    }
   ],
   "source": [
    "detection.shape"
   ]
  },
  {
   "cell_type": "code",
   "execution_count": 13,
   "metadata": {},
   "outputs": [],
   "source": [
    "for detectedObject in detection:\n",
    "    # Find label\n",
    "    label = int(detectedObject[1])\n",
    "    # Choose color of bounding box\n",
    "    if label == 1:\n",
    "        # Green color\n",
    "        color = (0,255,0)\n",
    "    else:\n",
    "        # Red color\n",
    "        color = (0,0,255)\n",
    "    # Find confidence\n",
    "    confidence = float(detectedObject[2])\n",
    "    # Bounding box coordinates\n",
    "    xmin = int(detectedObject[3] * img.shape[1])\n",
    "    ymin = int(detectedObject[4] * img.shape[0])\n",
    "    xmax = int(detectedObject[5] * img.shape[1])\n",
    "    ymax = int(detectedObject[6] * img.shape[0])\n",
    "    \n",
    "    # Plot bounding box only if there is at least\n",
    "    # 50% confidence\n",
    "    if confidence >= 0.50:\n",
    "        cv2.rectangle(img, (xmin, ymin), (xmax, ymax), color = color)"
   ]
  },
  {
   "cell_type": "code",
   "execution_count": 14,
   "metadata": {},
   "outputs": [],
   "source": [
    "# Display image\n",
    "cv2.imshow(\"Output Image\",img)\n",
    "cv2.imwrite(\"image.png\",img)\n",
    "cv2.waitKey(0)\n",
    "cv2.destroyAllWindows()"
   ]
  }
 ],
 "metadata": {
  "kernelspec": {
   "display_name": "Python 3",
   "language": "python",
   "name": "python3"
  },
  "language_info": {
   "codemirror_mode": {
    "name": "ipython",
    "version": 3
   },
   "file_extension": ".py",
   "mimetype": "text/x-python",
   "name": "python",
   "nbconvert_exporter": "python",
   "pygments_lexer": "ipython3",
   "version": "3.6.9"
  }
 },
 "nbformat": 4,
 "nbformat_minor": 4
}
