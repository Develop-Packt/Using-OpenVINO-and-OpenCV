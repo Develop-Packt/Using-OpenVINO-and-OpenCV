{
 "cells": [
  {
   "cell_type": "code",
   "execution_count": 1,
   "metadata": {},
   "outputs": [],
   "source": [
    "import os"
   ]
  },
  {
   "cell_type": "code",
   "execution_count": 2,
   "metadata": {},
   "outputs": [],
   "source": [
    "# Specify the path to the downloader script\n",
    "DOWNLOADER_SCRIPT = \"/opt/intel/openvino/deployment_tools/open_model_zoo/tools/downloader/downloader.py\""
   ]
  },
  {
   "cell_type": "code",
   "execution_count": 3,
   "metadata": {},
   "outputs": [],
   "source": [
    "# Specify the model name which we want to download\n",
    "MODEL_NAME = \"pedestrian-and-vehicle-detector-adas-0001\""
   ]
  },
  {
   "cell_type": "code",
   "execution_count": 4,
   "metadata": {},
   "outputs": [],
   "source": [
    "# Specify where you want to store the files\n",
    "OUTPUT_DIR = \"/home/hp/workfolder/The-Computer-Vision-Workshop/Chapter08/data/\""
   ]
  },
  {
   "cell_type": "code",
   "execution_count": 5,
   "metadata": {},
   "outputs": [],
   "source": [
    "# Specify the precision\n",
    "PRECISION = \"FP16\""
   ]
  },
  {
   "cell_type": "code",
   "execution_count": 6,
   "metadata": {},
   "outputs": [],
   "source": [
    "# Specify the command we need to run\n",
    "DOWNLOAD_COMMAND = \"{} --name {} --precisions {} -o {}\".format(DOWNLOADER_SCRIPT, MODEL_NAME, \n",
    "                                                               PRECISION, OUTPUT_DIR)"
   ]
  },
  {
   "cell_type": "code",
   "execution_count": 7,
   "metadata": {},
   "outputs": [],
   "source": [
    "# Create environment variable\n",
    "os.environ[\"DOWNLOAD_COMMAND\"] = DOWNLOAD_COMMAND"
   ]
  },
  {
   "cell_type": "code",
   "execution_count": 8,
   "metadata": {},
   "outputs": [
    {
     "name": "stdout",
     "output_type": "stream",
     "text": [
      "################|| Downloading models ||################\n",
      "\n",
      "========== Downloading /home/hp/workfolder/The-Computer-Vision-Workshop/Chapter08/data/intel/pedestrian-and-vehicle-detector-adas-0001/FP16/pedestrian-and-vehicle-detector-adas-0001.xml\n",
      "... 100%, 239 KB, 391 KB/s, 0 seconds passed\n",
      "\n",
      "========== Downloading /home/hp/workfolder/The-Computer-Vision-Workshop/Chapter08/data/intel/pedestrian-and-vehicle-detector-adas-0001/FP16/pedestrian-and-vehicle-detector-adas-0001.bin\n",
      "... 31%, 1024 KB, 2034 KB/s, 0 seconds passed\n",
      "... 63%, 2048 KB, 2042 KB/s, 1 seconds passed\n",
      "... 95%, 3072 KB, 2026 KB/s, 1 seconds passed\n",
      "... 100%, 3222 KB, 2033 KB/s, 1 seconds passed\n",
      "\n",
      "################|| Post-processing ||################\n",
      "\n"
     ]
    }
   ],
   "source": [
    "%%bash\n",
    "$DOWNLOAD_COMMAND"
   ]
  },
  {
   "cell_type": "code",
   "execution_count": 9,
   "metadata": {},
   "outputs": [
    {
     "data": {
      "text/plain": [
       "'/opt/intel/openvino/deployment_tools/open_model_zoo/tools/downloader/downloader.py --name pedestrian-and-vehicle-detector-adas-0001 --precisions FP16 -o /home/hp/workfolder/The-Computer-Vision-Workshop/Chapter08/data/'"
      ]
     },
     "execution_count": 9,
     "metadata": {},
     "output_type": "execute_result"
    }
   ],
   "source": [
    "# Remove the environment variable\n",
    "os.environ.pop(\"DOWNLOAD_COMMAND\")"
   ]
  },
  {
   "cell_type": "code",
   "execution_count": 10,
   "metadata": {},
   "outputs": [
    {
     "data": {
      "text/plain": [
       "['mobilenet_v2.caffemodel',\n",
       " 'intel',\n",
       " 'mobilenet_v2.prototxt',\n",
       " 'pedestrians.jpg']"
      ]
     },
     "execution_count": 10,
     "metadata": {},
     "output_type": "execute_result"
    }
   ],
   "source": [
    "# List files present in the output directory\n",
    "os.listdir(OUTPUT_DIR)"
   ]
  },
  {
   "cell_type": "code",
   "execution_count": 11,
   "metadata": {},
   "outputs": [
    {
     "data": {
      "text/plain": [
       "['pedestrian-and-vehicle-detector-adas-0001']"
      ]
     },
     "execution_count": 11,
     "metadata": {},
     "output_type": "execute_result"
    }
   ],
   "source": [
    "# List files in intel folder\n",
    "os.listdir(\"{}/intel\".format(OUTPUT_DIR))"
   ]
  },
  {
   "cell_type": "code",
   "execution_count": 12,
   "metadata": {},
   "outputs": [
    {
     "data": {
      "text/plain": [
       "['FP16']"
      ]
     },
     "execution_count": 12,
     "metadata": {},
     "output_type": "execute_result"
    }
   ],
   "source": [
    "# Go to the model directory\n",
    "os.listdir(\"{}/intel/{}\".format(OUTPUT_DIR,MODEL_NAME))"
   ]
  },
  {
   "cell_type": "code",
   "execution_count": 13,
   "metadata": {},
   "outputs": [
    {
     "data": {
      "text/plain": [
       "['pedestrian-and-vehicle-detector-adas-0001.xml',\n",
       " 'pedestrian-and-vehicle-detector-adas-0001.bin']"
      ]
     },
     "execution_count": 13,
     "metadata": {},
     "output_type": "execute_result"
    }
   ],
   "source": [
    "# Go to the precisions directory\n",
    "os.listdir(\"{}/intel/{}/{}\".format(OUTPUT_DIR,MODEL_NAME,PRECISION))"
   ]
  }
 ],
 "metadata": {
  "kernelspec": {
   "display_name": "Python 3",
   "language": "python",
   "name": "python3"
  },
  "language_info": {
   "codemirror_mode": {
    "name": "ipython",
    "version": 3
   },
   "file_extension": ".py",
   "mimetype": "text/x-python",
   "name": "python",
   "nbconvert_exporter": "python",
   "pygments_lexer": "ipython3",
   "version": "3.6.9"
  }
 },
 "nbformat": 4,
 "nbformat_minor": 4
}
