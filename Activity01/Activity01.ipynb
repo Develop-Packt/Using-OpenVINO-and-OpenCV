{
 "cells": [
  {
   "cell_type": "code",
   "execution_count": 1,
   "metadata": {},
   "outputs": [],
   "source": [
    "# Load the required modules\n",
    "import os\n",
    "import cv2\n",
    "import numpy as np"
   ]
  },
  {
   "cell_type": "code",
   "execution_count": 2,
   "metadata": {},
   "outputs": [],
   "source": [
    "# Specify the path to the downloader script\n",
    "DOWNLOADER_SCRIPT = \"/opt/intel/openvino/deployment_tools/open_model_zoo/tools/downloader/downloader.py\""
   ]
  },
  {
   "cell_type": "code",
   "execution_count": 3,
   "metadata": {},
   "outputs": [],
   "source": [
    "# Specify the model name which we want to download\n",
    "MODEL_NAME = \"face-detection-retail-0004\""
   ]
  },
  {
   "cell_type": "code",
   "execution_count": 4,
   "metadata": {},
   "outputs": [],
   "source": [
    "# Specify where you want to store the files\n",
    "OUTPUT_DIR = \"/home/hp/workfolder/The-Computer-Vision-Workshop/Chapter08/data/\""
   ]
  },
  {
   "cell_type": "code",
   "execution_count": 5,
   "metadata": {},
   "outputs": [],
   "source": [
    "# Specify the precision\n",
    "PRECISION = \"FP16\""
   ]
  },
  {
   "cell_type": "code",
   "execution_count": 6,
   "metadata": {},
   "outputs": [],
   "source": [
    "# Specify the command we need to run\n",
    "DOWNLOAD_COMMAND = \"{} --name {} --precisions {} -o {}\".format(DOWNLOADER_SCRIPT, MODEL_NAME, \n",
    "                                                               PRECISION, OUTPUT_DIR)"
   ]
  },
  {
   "cell_type": "code",
   "execution_count": 7,
   "metadata": {},
   "outputs": [],
   "source": [
    "# Create environment variable\n",
    "os.environ[\"DOWNLOAD_COMMAND\"] = DOWNLOAD_COMMAND"
   ]
  },
  {
   "cell_type": "code",
   "execution_count": 8,
   "metadata": {},
   "outputs": [
    {
     "name": "stdout",
     "output_type": "stream",
     "text": [
      "################|| Downloading models ||################\n",
      "\n",
      "========== Downloading /home/hp/workfolder/The-Computer-Vision-Workshop/Chapter08/data/intel/face-detection-retail-0004/FP16/face-detection-retail-0004.xml\n",
      "... 100%, 99 KB, 203 KB/s, 0 seconds passed\n",
      "\n",
      "========== Downloading /home/hp/workfolder/The-Computer-Vision-Workshop/Chapter08/data/intel/face-detection-retail-0004/FP16/face-detection-retail-0004.bin\n",
      "... 89%, 1024 KB, 1781 KB/s, 0 seconds passed\n",
      "... 100%, 1148 KB, 1795 KB/s, 0 seconds passed\n",
      "\n",
      "################|| Post-processing ||################\n",
      "\n"
     ]
    }
   ],
   "source": [
    "%%bash\n",
    "$DOWNLOAD_COMMAND"
   ]
  },
  {
   "cell_type": "code",
   "execution_count": 9,
   "metadata": {},
   "outputs": [
    {
     "data": {
      "text/plain": [
       "'/opt/intel/openvino/deployment_tools/open_model_zoo/tools/downloader/downloader.py --name face-detection-retail-0004 --precisions FP16 -o /home/hp/workfolder/The-Computer-Vision-Workshop/Chapter08/data/'"
      ]
     },
     "execution_count": 9,
     "metadata": {},
     "output_type": "execute_result"
    }
   ],
   "source": [
    "# Remove the environment variable\n",
    "os.environ.pop(\"DOWNLOAD_COMMAND\")"
   ]
  },
  {
   "cell_type": "code",
   "execution_count": 10,
   "metadata": {},
   "outputs": [
    {
     "data": {
      "text/plain": [
       "['mobilenet_v2.caffemodel',\n",
       " 'haarcascade_frontalface_default.xml',\n",
       " 'intel',\n",
       " 'mobilenet_v2.prototxt',\n",
       " 'crowd.jpg',\n",
       " 'pedestrians.jpg']"
      ]
     },
     "execution_count": 10,
     "metadata": {},
     "output_type": "execute_result"
    }
   ],
   "source": [
    "# List files present in the output directory\n",
    "os.listdir(OUTPUT_DIR)"
   ]
  },
  {
   "cell_type": "code",
   "execution_count": 11,
   "metadata": {},
   "outputs": [
    {
     "data": {
      "text/plain": [
       "['pedestrian-and-vehicle-detector-adas-0001', 'face-detection-retail-0004']"
      ]
     },
     "execution_count": 11,
     "metadata": {},
     "output_type": "execute_result"
    }
   ],
   "source": [
    "# List files in intel folder\n",
    "os.listdir(\"{}/intel\".format(OUTPUT_DIR))"
   ]
  },
  {
   "cell_type": "code",
   "execution_count": 12,
   "metadata": {},
   "outputs": [
    {
     "data": {
      "text/plain": [
       "['FP16']"
      ]
     },
     "execution_count": 12,
     "metadata": {},
     "output_type": "execute_result"
    }
   ],
   "source": [
    "# Go to the model directory\n",
    "os.listdir(\"{}/intel/{}\".format(OUTPUT_DIR,MODEL_NAME))"
   ]
  },
  {
   "cell_type": "code",
   "execution_count": 13,
   "metadata": {},
   "outputs": [
    {
     "data": {
      "text/plain": [
       "['face-detection-retail-0004.xml', 'face-detection-retail-0004.bin']"
      ]
     },
     "execution_count": 13,
     "metadata": {},
     "output_type": "execute_result"
    }
   ],
   "source": [
    "# Go to the precisions directory\n",
    "os.listdir(\"{}/intel/{}/{}\".format(OUTPUT_DIR,MODEL_NAME,PRECISION))"
   ]
  },
  {
   "cell_type": "code",
   "execution_count": 14,
   "metadata": {},
   "outputs": [],
   "source": [
    "# Specify the path to IR\n",
    "xmlFile = \"../data/intel/{}/{}/{}.xml\".format(MODEL_NAME,PRECISION,MODEL_NAME)\n",
    "binFile = \"../data/intel/{}/{}/{}.bin\".format(MODEL_NAME,PRECISION,MODEL_NAME)"
   ]
  },
  {
   "cell_type": "code",
   "execution_count": 15,
   "metadata": {},
   "outputs": [],
   "source": [
    "# Image path\n",
    "imgPath = \"../data/crowd.jpg\"\n",
    "# Read image\n",
    "img = cv2.imread(imgPath)"
   ]
  },
  {
   "cell_type": "code",
   "execution_count": 16,
   "metadata": {},
   "outputs": [],
   "source": [
    "imgCopy = img.copy()"
   ]
  },
  {
   "cell_type": "code",
   "execution_count": 17,
   "metadata": {},
   "outputs": [],
   "source": [
    "# Load the network\n",
    "net = cv2.dnn.readNet(xmlFile,binFile)"
   ]
  },
  {
   "cell_type": "code",
   "execution_count": 18,
   "metadata": {},
   "outputs": [],
   "source": [
    "# Pre-process the image\n",
    "# We want to resize the image to 384x672\n",
    "blob = cv2.dnn.blobFromImage(img, size=(672,384))"
   ]
  },
  {
   "cell_type": "code",
   "execution_count": 19,
   "metadata": {},
   "outputs": [
    {
     "data": {
      "text/plain": [
       "(1, 3, 384, 672)"
      ]
     },
     "execution_count": 19,
     "metadata": {},
     "output_type": "execute_result"
    }
   ],
   "source": [
    "# Check the blob shape\n",
    "blob.shape"
   ]
  },
  {
   "cell_type": "code",
   "execution_count": 20,
   "metadata": {},
   "outputs": [],
   "source": [
    "# Set the image as network input\n",
    "net.setInput(blob)"
   ]
  },
  {
   "cell_type": "code",
   "execution_count": 21,
   "metadata": {},
   "outputs": [],
   "source": [
    "# Carry a forward propagation\n",
    "out = net.forward()"
   ]
  },
  {
   "cell_type": "code",
   "execution_count": 22,
   "metadata": {},
   "outputs": [
    {
     "data": {
      "text/plain": [
       "(1, 1, 200, 7)"
      ]
     },
     "execution_count": 22,
     "metadata": {},
     "output_type": "execute_result"
    }
   ],
   "source": [
    "# Check output shape\n",
    "out.shape"
   ]
  },
  {
   "cell_type": "code",
   "execution_count": 23,
   "metadata": {},
   "outputs": [
    {
     "name": "stdout",
     "output_type": "stream",
     "text": [
      "Number of objects found = 200\n"
     ]
    }
   ],
   "source": [
    "# Compare this with [1,1,N,7]\n",
    "print(\"Number of objects found = {}\".format(out.shape[2]))"
   ]
  },
  {
   "cell_type": "code",
   "execution_count": 24,
   "metadata": {},
   "outputs": [],
   "source": [
    "# Reshape the output\n",
    "detection = out.reshape(-1,7)"
   ]
  },
  {
   "cell_type": "code",
   "execution_count": 25,
   "metadata": {},
   "outputs": [
    {
     "data": {
      "text/plain": [
       "(200, 7)"
      ]
     },
     "execution_count": 25,
     "metadata": {},
     "output_type": "execute_result"
    }
   ],
   "source": [
    "detection.shape"
   ]
  },
  {
   "cell_type": "code",
   "execution_count": 26,
   "metadata": {},
   "outputs": [],
   "source": [
    "for detectedObject in detection:\n",
    "    # Find label\n",
    "    label = int(detectedObject[1])\n",
    "    # Choose color of bounding box\n",
    "    if label == 1:\n",
    "        # Green color\n",
    "        color = (0,255,0)\n",
    "    else:\n",
    "        # Red color\n",
    "        color = (0,0,255)\n",
    "    # Find confidence\n",
    "    confidence = float(detectedObject[2])\n",
    "    # Bounding box coordinates\n",
    "    xmin = int(detectedObject[3] * img.shape[1])\n",
    "    ymin = int(detectedObject[4] * img.shape[0])\n",
    "    xmax = int(detectedObject[5] * img.shape[1])\n",
    "    ymax = int(detectedObject[6] * img.shape[0])\n",
    "    \n",
    "    # Plot bounding box only if there is at least\n",
    "    # 15% confidence\n",
    "    if confidence >= 0.15:\n",
    "        cv2.rectangle(img, (xmin, ymin), (xmax, ymax), color = color)"
   ]
  },
  {
   "cell_type": "code",
   "execution_count": 27,
   "metadata": {},
   "outputs": [],
   "source": [
    "# Display image\n",
    "cv2.imshow(\"Output Image\",img)\n",
    "cv2.imwrite(\"image.png\",img)\n",
    "cv2.waitKey(0)\n",
    "cv2.destroyAllWindows()"
   ]
  },
  {
   "cell_type": "code",
   "execution_count": 28,
   "metadata": {},
   "outputs": [],
   "source": [
    "# Haar Cascade Path\n",
    "haarCascadePath = \"../data/haarcascade_frontalface_default.xml\""
   ]
  },
  {
   "cell_type": "code",
   "execution_count": 29,
   "metadata": {},
   "outputs": [],
   "source": [
    "# Convert image to grayscale\n",
    "grayInputImage = cv2.cvtColor(imgCopy, cv2.COLOR_BGR2GRAY)"
   ]
  },
  {
   "cell_type": "code",
   "execution_count": 30,
   "metadata": {},
   "outputs": [],
   "source": [
    "# Load Haar Cascade\n",
    "haarCascade = cv2.CascadeClassifier(haarCascadePath)"
   ]
  },
  {
   "cell_type": "code",
   "execution_count": 31,
   "metadata": {},
   "outputs": [],
   "source": [
    "detectedFaces = haarCascade.detectMultiScale(grayInputImage, 1.2, 1)"
   ]
  },
  {
   "cell_type": "code",
   "execution_count": 32,
   "metadata": {},
   "outputs": [],
   "source": [
    "for face in detectedFaces:\n",
    "\n",
    "  # Each face is a rectangle representing\n",
    "\n",
    "  # the bounding box around the detected face\n",
    "\n",
    "  x, y, w, h = face\n",
    "\n",
    "  cv2.rectangle(imgCopy, (x, y), (x+w, y+h), (0, 0, 255))"
   ]
  },
  {
   "cell_type": "code",
   "execution_count": 33,
   "metadata": {},
   "outputs": [],
   "source": [
    "cv2.imshow(\"Faces Detected\", imgCopy)\n",
    "cv2.imwrite(\"haarcascade_result.png\",imgCopy)\n",
    "cv2.waitKey(0)\n",
    "cv2.destroyAllWindows()"
   ]
  }
 ],
 "metadata": {
  "kernelspec": {
   "display_name": "Python 3",
   "language": "python",
   "name": "python3"
  },
  "language_info": {
   "codemirror_mode": {
    "name": "ipython",
    "version": 3
   },
   "file_extension": ".py",
   "mimetype": "text/x-python",
   "name": "python",
   "nbconvert_exporter": "python",
   "pygments_lexer": "ipython3",
   "version": "3.6.9"
  }
 },
 "nbformat": 4,
 "nbformat_minor": 4
}
